{
 "cells": [
  {
   "cell_type": "code",
   "execution_count": 29,
   "id": "74e2c13d",
   "metadata": {},
   "outputs": [],
   "source": [
    "from torch.utils.data import DataLoader, Subset, random_split, Dataset\n",
    "from torchvision import transforms, datasets\n",
    "from torchvision.datasets import MNIST\n",
    "from torchvision.transforms import ToTensor\n",
    "import numpy as np\n",
    "import torch as th"
   ]
  },
  {
   "cell_type": "code",
   "execution_count": 5,
   "id": "1fa417bb",
   "metadata": {},
   "outputs": [],
   "source": [
    "data = pd.read_csv(\"data/user/user1_0.csv\")"
   ]
  },
  {
   "cell_type": "code",
   "execution_count": 6,
   "id": "d618234f",
   "metadata": {},
   "outputs": [
    {
     "data": {
      "text/html": [
       "<div>\n",
       "<style scoped>\n",
       "    .dataframe tbody tr th:only-of-type {\n",
       "        vertical-align: middle;\n",
       "    }\n",
       "\n",
       "    .dataframe tbody tr th {\n",
       "        vertical-align: top;\n",
       "    }\n",
       "\n",
       "    .dataframe thead th {\n",
       "        text-align: right;\n",
       "    }\n",
       "</style>\n",
       "<table border=\"1\" class=\"dataframe\">\n",
       "  <thead>\n",
       "    <tr style=\"text-align: right;\">\n",
       "      <th></th>\n",
       "      <th>Unnamed: 0</th>\n",
       "      <th>user</th>\n",
       "      <th>movie</th>\n",
       "    </tr>\n",
       "  </thead>\n",
       "  <tbody>\n",
       "    <tr>\n",
       "      <th>0</th>\n",
       "      <td>72217</td>\n",
       "      <td>0</td>\n",
       "      <td>113</td>\n",
       "    </tr>\n",
       "    <tr>\n",
       "      <th>1</th>\n",
       "      <td>46522</td>\n",
       "      <td>0</td>\n",
       "      <td>301</td>\n",
       "    </tr>\n",
       "    <tr>\n",
       "      <th>2</th>\n",
       "      <td>9316</td>\n",
       "      <td>0</td>\n",
       "      <td>240</td>\n",
       "    </tr>\n",
       "    <tr>\n",
       "      <th>3</th>\n",
       "      <td>83435</td>\n",
       "      <td>0</td>\n",
       "      <td>88</td>\n",
       "    </tr>\n",
       "    <tr>\n",
       "      <th>4</th>\n",
       "      <td>72610</td>\n",
       "      <td>0</td>\n",
       "      <td>867</td>\n",
       "    </tr>\n",
       "  </tbody>\n",
       "</table>\n",
       "</div>"
      ],
      "text/plain": [
       "   Unnamed: 0  user  movie\n",
       "0       72217     0    113\n",
       "1       46522     0    301\n",
       "2        9316     0    240\n",
       "3       83435     0     88\n",
       "4       72610     0    867"
      ]
     },
     "execution_count": 6,
     "metadata": {},
     "output_type": "execute_result"
    }
   ],
   "source": [
    "data.head()"
   ]
  },
  {
   "cell_type": "code",
   "execution_count": 13,
   "id": "794fa6e0",
   "metadata": {},
   "outputs": [],
   "source": [
    "import os\n",
    "import pandas as pd\n",
    "from torchvision.io import read_image\n",
    "\n",
    "class MovieLensDataset(Dataset):\n",
    "    def __init__(self, rating_file, UserMovie_file, transform=None, target_transform=None):\n",
    "        \"\"\"\n",
    "        annotations_file: ratings file (ratings.csv looks like : id, score)\n",
    "        \"\"\"\n",
    "        self.ratings = pd.read_csv(rating_file);\n",
    "        self.UserMovie_file = UserMovie_file\n",
    "        self.transform = transform\n",
    "        self.target_transform = target_transform\n",
    "    \n",
    "    def __len__(self):\n",
    "        return len(self.ratings)\n",
    "    \n",
    "    def __getitem__(self, idx):\n",
    "        self.UserMovie = pd.read_csv(self.UserMovie_file)\n",
    "        usermovie = np.asarray([self.UserMovie.iloc[idx,1],self.UserMovie.iloc[idx,2]])\n",
    "        label = self.ratings.iloc[idx, 1]\n",
    "        usermovie = th.from_numpy(usermovie)\n",
    "        if self.target_transform:\n",
    "            label = self.target_transform(label)\n",
    "        return usermovie,label"
   ]
  },
  {
   "cell_type": "code",
   "execution_count": 34,
   "id": "5dbb38ed",
   "metadata": {},
   "outputs": [],
   "source": [
    "dataSet = MovieLensDataset(\"data/user/rating1_0.csv\",\"data/user/user1_0.csv\",None,None)"
   ]
  },
  {
   "cell_type": "code",
   "execution_count": 35,
   "id": "413da019",
   "metadata": {},
   "outputs": [],
   "source": [
    "from torch.utils.data import DataLoader\n"
   ]
  },
  {
   "cell_type": "code",
   "execution_count": 36,
   "id": "3e43be1d",
   "metadata": {},
   "outputs": [],
   "source": [
    "train_dataloader = DataLoader(dataSet, batch_size=64, shuffle=True)"
   ]
  },
  {
   "cell_type": "code",
   "execution_count": 37,
   "id": "42308371",
   "metadata": {},
   "outputs": [
    {
     "name": "stdout",
     "output_type": "stream",
     "text": [
      "Feature batch shape: torch.Size([64, 2])\n",
      "Labels batch shape: torch.Size([64])\n"
     ]
    }
   ],
   "source": [
    "train_features, train_labels = next(iter(train_dataloader))\n",
    "print(f\"Feature batch shape: {train_features.size()}\")\n",
    "print(f\"Labels batch shape: {train_labels.size()}\")"
   ]
  },
  {
   "cell_type": "code",
   "execution_count": 22,
   "id": "f901dc2b",
   "metadata": {},
   "outputs": [],
   "source": [
    "userMovie = pd.read_csv(\"data/user/user1_0.csv\")"
   ]
  },
  {
   "cell_type": "code",
   "execution_count": null,
   "id": "2c7748dd",
   "metadata": {},
   "outputs": [],
   "source": [
    "userMovie"
   ]
  },
  {
   "cell_type": "code",
   "execution_count": 32,
   "id": "1c03d41f",
   "metadata": {},
   "outputs": [],
   "source": [
    "tensor = th.from_numpy(np.asarray(userMovie.iloc[5,1],userMovie.iloc[5,2]))"
   ]
  },
  {
   "cell_type": "code",
   "execution_count": null,
   "id": "54b8c2d2",
   "metadata": {},
   "outputs": [],
   "source": []
  }
 ],
 "metadata": {
  "kernelspec": {
   "display_name": "Python 3 (ipykernel)",
   "language": "python",
   "name": "python3"
  },
  "language_info": {
   "codemirror_mode": {
    "name": "ipython",
    "version": 3
   },
   "file_extension": ".py",
   "mimetype": "text/x-python",
   "name": "python",
   "nbconvert_exporter": "python",
   "pygments_lexer": "ipython3",
   "version": "3.9.12"
  }
 },
 "nbformat": 4,
 "nbformat_minor": 5
}
